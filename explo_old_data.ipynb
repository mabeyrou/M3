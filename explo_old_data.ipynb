{
 "cells": [
  {
   "cell_type": "markdown",
   "id": "8ec49fed",
   "metadata": {},
   "source": [
    "# Exploration des données initiales\n"
   ]
  },
  {
   "cell_type": "markdown",
   "id": "cee29db8",
   "metadata": {},
   "source": [
    "## Imports\n"
   ]
  },
  {
   "cell_type": "code",
   "execution_count": 34,
   "id": "ffc4465d",
   "metadata": {},
   "outputs": [],
   "source": [
    "import pandas as pd\n",
    "import missingno as msno\n",
    "import seaborn as sns\n",
    "import matplotlib.pyplot as plt\n",
    "\n",
    "import sys\n",
    "import os\n",
    "\n",
    "# Add the parent directory to sys.path so 'api' can be imported\n",
    "sys.path.append(os.path.abspath(os.path.join(os.getcwd(), '..')))\n",
    "\n",
    "from api.database import engine"
   ]
  },
  {
   "cell_type": "markdown",
   "id": "fc77c446",
   "metadata": {},
   "source": [
    "## Analyse exploratoire des données\n"
   ]
  },
  {
   "cell_type": "code",
   "execution_count": 35,
   "id": "1e7b1a9a",
   "metadata": {},
   "outputs": [
    {
     "data": {
      "application/vnd.microsoft.datawrangler.viewer.v0+json": {
       "columns": [
        {
         "name": "index",
         "rawType": "int64",
         "type": "integer"
        },
        {
         "name": "age",
         "rawType": "int64",
         "type": "integer"
        },
        {
         "name": "taille",
         "rawType": "float64",
         "type": "float"
        },
        {
         "name": "poids",
         "rawType": "float64",
         "type": "float"
        },
        {
         "name": "sexe",
         "rawType": "object",
         "type": "string"
        },
        {
         "name": "sport_licence",
         "rawType": "bool",
         "type": "boolean"
        },
        {
         "name": "niveau_etude",
         "rawType": "object",
         "type": "string"
        },
        {
         "name": "region",
         "rawType": "object",
         "type": "string"
        },
        {
         "name": "smoker",
         "rawType": "bool",
         "type": "boolean"
        },
        {
         "name": "revenu_estime_mois",
         "rawType": "int64",
         "type": "integer"
        },
        {
         "name": "situation_familiale",
         "rawType": "object",
         "type": "unknown"
        },
        {
         "name": "historique_credits",
         "rawType": "float64",
         "type": "float"
        },
        {
         "name": "risque_personnel",
         "rawType": "float64",
         "type": "float"
        },
        {
         "name": "score_credit",
         "rawType": "float64",
         "type": "float"
        },
        {
         "name": "loyer_mensuel",
         "rawType": "float64",
         "type": "float"
        },
        {
         "name": "montant_pret",
         "rawType": "float64",
         "type": "float"
        },
        {
         "name": "date_creation_compte",
         "rawType": "datetime64[ns]",
         "type": "datetime"
        }
       ],
       "ref": "98cc9cf2-a82c-4c9d-bc62-3dafacbcfc0e",
       "rows": [
        [
         "0",
         "19",
         "175.0",
         "62.5",
         "H",
         "False",
         "bac",
         "Île-de-France",
         "True",
         "4958",
         "veuf",
         null,
         "0.19",
         null,
         null,
         "500.0",
         "2021-04-04 00:00:00"
        ],
        [
         "1",
         "31",
         "190.0",
         "63.5",
         "H",
         "True",
         "bac+2",
         "Corse",
         "False",
         "3001",
         "veuf",
         null,
         "0.93",
         null,
         "1270.84",
         "786.595928525307",
         "2023-03-19 00:00:00"
        ],
        [
         "2",
         "68",
         "174.6",
         "66.5",
         "H",
         "True",
         "doctorat",
         "Auvergne-Rhône-Alpes",
         "True",
         "3758",
         null,
         null,
         "0.68",
         "576.0",
         null,
         "29093.676396627423",
         "2024-08-27 00:00:00"
        ],
        [
         "3",
         "50",
         "187.1",
         "106.8",
         "H",
         "True",
         "master",
         "Occitanie",
         "False",
         "3967",
         "marié",
         null,
         "0.68",
         null,
         "10000.0",
         "7823.303925132546",
         "2022-03-18 00:00:00"
        ],
        [
         "4",
         "42",
         "169.7",
         "63.4",
         "H",
         "True",
         "master",
         "Provence-Alpes-Côte d’Azur",
         "False",
         "2091",
         null,
         "3.0",
         "0.92",
         null,
         "5000.0",
         "500.0",
         "2020-10-17 00:00:00"
        ]
       ],
       "shape": {
        "columns": 16,
        "rows": 5
       }
      },
      "text/html": [
       "<div>\n",
       "<style scoped>\n",
       "    .dataframe tbody tr th:only-of-type {\n",
       "        vertical-align: middle;\n",
       "    }\n",
       "\n",
       "    .dataframe tbody tr th {\n",
       "        vertical-align: top;\n",
       "    }\n",
       "\n",
       "    .dataframe thead th {\n",
       "        text-align: right;\n",
       "    }\n",
       "</style>\n",
       "<table border=\"1\" class=\"dataframe\">\n",
       "  <thead>\n",
       "    <tr style=\"text-align: right;\">\n",
       "      <th></th>\n",
       "      <th>age</th>\n",
       "      <th>taille</th>\n",
       "      <th>poids</th>\n",
       "      <th>sexe</th>\n",
       "      <th>sport_licence</th>\n",
       "      <th>niveau_etude</th>\n",
       "      <th>region</th>\n",
       "      <th>smoker</th>\n",
       "      <th>revenu_estime_mois</th>\n",
       "      <th>situation_familiale</th>\n",
       "      <th>historique_credits</th>\n",
       "      <th>risque_personnel</th>\n",
       "      <th>score_credit</th>\n",
       "      <th>loyer_mensuel</th>\n",
       "      <th>montant_pret</th>\n",
       "      <th>date_creation_compte</th>\n",
       "    </tr>\n",
       "  </thead>\n",
       "  <tbody>\n",
       "    <tr>\n",
       "      <th>0</th>\n",
       "      <td>19</td>\n",
       "      <td>175.0</td>\n",
       "      <td>62.5</td>\n",
       "      <td>H</td>\n",
       "      <td>False</td>\n",
       "      <td>bac</td>\n",
       "      <td>Île-de-France</td>\n",
       "      <td>True</td>\n",
       "      <td>4958</td>\n",
       "      <td>veuf</td>\n",
       "      <td>NaN</td>\n",
       "      <td>0.19</td>\n",
       "      <td>NaN</td>\n",
       "      <td>NaN</td>\n",
       "      <td>500.000000</td>\n",
       "      <td>2021-04-04</td>\n",
       "    </tr>\n",
       "    <tr>\n",
       "      <th>1</th>\n",
       "      <td>31</td>\n",
       "      <td>190.0</td>\n",
       "      <td>63.5</td>\n",
       "      <td>H</td>\n",
       "      <td>True</td>\n",
       "      <td>bac+2</td>\n",
       "      <td>Corse</td>\n",
       "      <td>False</td>\n",
       "      <td>3001</td>\n",
       "      <td>veuf</td>\n",
       "      <td>NaN</td>\n",
       "      <td>0.93</td>\n",
       "      <td>NaN</td>\n",
       "      <td>1270.84</td>\n",
       "      <td>786.595929</td>\n",
       "      <td>2023-03-19</td>\n",
       "    </tr>\n",
       "    <tr>\n",
       "      <th>2</th>\n",
       "      <td>68</td>\n",
       "      <td>174.6</td>\n",
       "      <td>66.5</td>\n",
       "      <td>H</td>\n",
       "      <td>True</td>\n",
       "      <td>doctorat</td>\n",
       "      <td>Auvergne-Rhône-Alpes</td>\n",
       "      <td>True</td>\n",
       "      <td>3758</td>\n",
       "      <td>None</td>\n",
       "      <td>NaN</td>\n",
       "      <td>0.68</td>\n",
       "      <td>576.0</td>\n",
       "      <td>NaN</td>\n",
       "      <td>29093.676397</td>\n",
       "      <td>2024-08-27</td>\n",
       "    </tr>\n",
       "    <tr>\n",
       "      <th>3</th>\n",
       "      <td>50</td>\n",
       "      <td>187.1</td>\n",
       "      <td>106.8</td>\n",
       "      <td>H</td>\n",
       "      <td>True</td>\n",
       "      <td>master</td>\n",
       "      <td>Occitanie</td>\n",
       "      <td>False</td>\n",
       "      <td>3967</td>\n",
       "      <td>marié</td>\n",
       "      <td>NaN</td>\n",
       "      <td>0.68</td>\n",
       "      <td>NaN</td>\n",
       "      <td>10000.00</td>\n",
       "      <td>7823.303925</td>\n",
       "      <td>2022-03-18</td>\n",
       "    </tr>\n",
       "    <tr>\n",
       "      <th>4</th>\n",
       "      <td>42</td>\n",
       "      <td>169.7</td>\n",
       "      <td>63.4</td>\n",
       "      <td>H</td>\n",
       "      <td>True</td>\n",
       "      <td>master</td>\n",
       "      <td>Provence-Alpes-Côte d’Azur</td>\n",
       "      <td>False</td>\n",
       "      <td>2091</td>\n",
       "      <td>None</td>\n",
       "      <td>3.0</td>\n",
       "      <td>0.92</td>\n",
       "      <td>NaN</td>\n",
       "      <td>5000.00</td>\n",
       "      <td>500.000000</td>\n",
       "      <td>2020-10-17</td>\n",
       "    </tr>\n",
       "  </tbody>\n",
       "</table>\n",
       "</div>"
      ],
      "text/plain": [
       "   age  taille  poids sexe  sport_licence niveau_etude  \\\n",
       "0   19   175.0   62.5    H          False          bac   \n",
       "1   31   190.0   63.5    H           True        bac+2   \n",
       "2   68   174.6   66.5    H           True     doctorat   \n",
       "3   50   187.1  106.8    H           True       master   \n",
       "4   42   169.7   63.4    H           True       master   \n",
       "\n",
       "                       region  smoker  revenu_estime_mois situation_familiale  \\\n",
       "0               Île-de-France    True                4958                veuf   \n",
       "1                       Corse   False                3001                veuf   \n",
       "2        Auvergne-Rhône-Alpes    True                3758                None   \n",
       "3                   Occitanie   False                3967               marié   \n",
       "4  Provence-Alpes-Côte d’Azur   False                2091                None   \n",
       "\n",
       "   historique_credits  risque_personnel  score_credit  loyer_mensuel  \\\n",
       "0                 NaN              0.19           NaN            NaN   \n",
       "1                 NaN              0.93           NaN        1270.84   \n",
       "2                 NaN              0.68         576.0            NaN   \n",
       "3                 NaN              0.68           NaN       10000.00   \n",
       "4                 3.0              0.92           NaN        5000.00   \n",
       "\n",
       "   montant_pret date_creation_compte  \n",
       "0    500.000000           2021-04-04  \n",
       "1    786.595929           2023-03-19  \n",
       "2  29093.676397           2024-08-27  \n",
       "3   7823.303925           2022-03-18  \n",
       "4    500.000000           2020-10-17  "
      ]
     },
     "execution_count": 35,
     "metadata": {},
     "output_type": "execute_result"
    }
   ],
   "source": [
    "from api.database import engine\n",
    "\n",
    "df = pd.read_sql_table(table_name='clients', con=engine, parse_dates=['date_creation_compte'])\n",
    "df = df.drop(columns=['id'])\n",
    "df.head()"
   ]
  },
  {
   "cell_type": "code",
   "execution_count": 36,
   "id": "4e4a26fd",
   "metadata": {},
   "outputs": [
    {
     "data": {
      "application/vnd.microsoft.datawrangler.viewer.v0+json": {
       "columns": [
        {
         "name": "index",
         "rawType": "object",
         "type": "string"
        },
        {
         "name": "age",
         "rawType": "float64",
         "type": "float"
        },
        {
         "name": "taille",
         "rawType": "float64",
         "type": "float"
        },
        {
         "name": "poids",
         "rawType": "float64",
         "type": "float"
        },
        {
         "name": "revenu_estime_mois",
         "rawType": "float64",
         "type": "float"
        },
        {
         "name": "historique_credits",
         "rawType": "float64",
         "type": "float"
        },
        {
         "name": "risque_personnel",
         "rawType": "float64",
         "type": "float"
        },
        {
         "name": "score_credit",
         "rawType": "float64",
         "type": "float"
        },
        {
         "name": "loyer_mensuel",
         "rawType": "float64",
         "type": "float"
        },
        {
         "name": "montant_pret",
         "rawType": "float64",
         "type": "float"
        },
        {
         "name": "date_creation_compte",
         "rawType": "object",
         "type": "unknown"
        }
       ],
       "ref": "f89b9dc0-dd41-4af4-9857-a9aaa05cc1b2",
       "rows": [
        [
         "count",
         "10000.0",
         "10000.0",
         "10000.0",
         "10000.0",
         "4692.0",
         "10000.0",
         "4744.0",
         "7029.0",
         "10000.0",
         "10000"
        ],
        [
         "mean",
         "46.6788",
         "169.98452",
         "69.86435000000002",
         "2513.9533",
         "2.5068201193520885",
         "0.5023799999999999",
         "574.7797217537943",
         "5306.473283539622",
         "8063.179077789046",
         "2022-09-21 21:53:08.160000"
        ],
        [
         "min",
         "18.0",
         "129.8",
         "11.7",
         "500.0",
         "0.0",
         "0.0",
         "300.0",
         "-245.1",
         "500.0",
         "2020-01-01 00:00:00"
        ],
        [
         "25%",
         "32.0",
         "163.4",
         "59.7",
         "1688.0",
         "1.0",
         "0.25",
         "443.0",
         "1007.75",
         "500.0",
         "2021-05-06 00:00:00"
        ],
        [
         "50%",
         "47.0",
         "170.0",
         "69.8",
         "2496.0",
         "3.0",
         "0.5",
         "574.0",
         "5000.0",
         "646.3060565186204",
         "2022-09-25 00:00:00"
        ],
        [
         "75%",
         "61.0",
         "176.6",
         "80.0",
         "3294.0",
         "4.0",
         "0.76",
         "705.0",
         "10000.0",
         "13755.555527243154",
         "2024-01-31 00:00:00"
        ],
        [
         "max",
         "75.0",
         "208.4",
         "132.2",
         "7358.0",
         "5.0",
         "1.0",
         "849.0",
         "10000.0",
         "60000.0",
         "2025-06-12 00:00:00"
        ],
        [
         "std",
         "16.669811601271388",
         "9.88309951053785",
         "14.808592084241223",
         "1142.2812277891317",
         "1.6884109576025759",
         "0.2909009074131488",
         "154.97889024616853",
         "3773.366242292259",
         "10781.678080728028",
         null
        ]
       ],
       "shape": {
        "columns": 10,
        "rows": 8
       }
      },
      "text/html": [
       "<div>\n",
       "<style scoped>\n",
       "    .dataframe tbody tr th:only-of-type {\n",
       "        vertical-align: middle;\n",
       "    }\n",
       "\n",
       "    .dataframe tbody tr th {\n",
       "        vertical-align: top;\n",
       "    }\n",
       "\n",
       "    .dataframe thead th {\n",
       "        text-align: right;\n",
       "    }\n",
       "</style>\n",
       "<table border=\"1\" class=\"dataframe\">\n",
       "  <thead>\n",
       "    <tr style=\"text-align: right;\">\n",
       "      <th></th>\n",
       "      <th>age</th>\n",
       "      <th>taille</th>\n",
       "      <th>poids</th>\n",
       "      <th>revenu_estime_mois</th>\n",
       "      <th>historique_credits</th>\n",
       "      <th>risque_personnel</th>\n",
       "      <th>score_credit</th>\n",
       "      <th>loyer_mensuel</th>\n",
       "      <th>montant_pret</th>\n",
       "      <th>date_creation_compte</th>\n",
       "    </tr>\n",
       "  </thead>\n",
       "  <tbody>\n",
       "    <tr>\n",
       "      <th>count</th>\n",
       "      <td>10000.000000</td>\n",
       "      <td>10000.00000</td>\n",
       "      <td>10000.000000</td>\n",
       "      <td>10000.000000</td>\n",
       "      <td>4692.000000</td>\n",
       "      <td>10000.000000</td>\n",
       "      <td>4744.000000</td>\n",
       "      <td>7029.000000</td>\n",
       "      <td>10000.000000</td>\n",
       "      <td>10000</td>\n",
       "    </tr>\n",
       "    <tr>\n",
       "      <th>mean</th>\n",
       "      <td>46.678800</td>\n",
       "      <td>169.98452</td>\n",
       "      <td>69.864350</td>\n",
       "      <td>2513.953300</td>\n",
       "      <td>2.506820</td>\n",
       "      <td>0.502380</td>\n",
       "      <td>574.779722</td>\n",
       "      <td>5306.473284</td>\n",
       "      <td>8063.179078</td>\n",
       "      <td>2022-09-21 21:53:08.160000</td>\n",
       "    </tr>\n",
       "    <tr>\n",
       "      <th>min</th>\n",
       "      <td>18.000000</td>\n",
       "      <td>129.80000</td>\n",
       "      <td>11.700000</td>\n",
       "      <td>500.000000</td>\n",
       "      <td>0.000000</td>\n",
       "      <td>0.000000</td>\n",
       "      <td>300.000000</td>\n",
       "      <td>-245.100000</td>\n",
       "      <td>500.000000</td>\n",
       "      <td>2020-01-01 00:00:00</td>\n",
       "    </tr>\n",
       "    <tr>\n",
       "      <th>25%</th>\n",
       "      <td>32.000000</td>\n",
       "      <td>163.40000</td>\n",
       "      <td>59.700000</td>\n",
       "      <td>1688.000000</td>\n",
       "      <td>1.000000</td>\n",
       "      <td>0.250000</td>\n",
       "      <td>443.000000</td>\n",
       "      <td>1007.750000</td>\n",
       "      <td>500.000000</td>\n",
       "      <td>2021-05-06 00:00:00</td>\n",
       "    </tr>\n",
       "    <tr>\n",
       "      <th>50%</th>\n",
       "      <td>47.000000</td>\n",
       "      <td>170.00000</td>\n",
       "      <td>69.800000</td>\n",
       "      <td>2496.000000</td>\n",
       "      <td>3.000000</td>\n",
       "      <td>0.500000</td>\n",
       "      <td>574.000000</td>\n",
       "      <td>5000.000000</td>\n",
       "      <td>646.306057</td>\n",
       "      <td>2022-09-25 00:00:00</td>\n",
       "    </tr>\n",
       "    <tr>\n",
       "      <th>75%</th>\n",
       "      <td>61.000000</td>\n",
       "      <td>176.60000</td>\n",
       "      <td>80.000000</td>\n",
       "      <td>3294.000000</td>\n",
       "      <td>4.000000</td>\n",
       "      <td>0.760000</td>\n",
       "      <td>705.000000</td>\n",
       "      <td>10000.000000</td>\n",
       "      <td>13755.555527</td>\n",
       "      <td>2024-01-31 00:00:00</td>\n",
       "    </tr>\n",
       "    <tr>\n",
       "      <th>max</th>\n",
       "      <td>75.000000</td>\n",
       "      <td>208.40000</td>\n",
       "      <td>132.200000</td>\n",
       "      <td>7358.000000</td>\n",
       "      <td>5.000000</td>\n",
       "      <td>1.000000</td>\n",
       "      <td>849.000000</td>\n",
       "      <td>10000.000000</td>\n",
       "      <td>60000.000000</td>\n",
       "      <td>2025-06-12 00:00:00</td>\n",
       "    </tr>\n",
       "    <tr>\n",
       "      <th>std</th>\n",
       "      <td>16.669812</td>\n",
       "      <td>9.88310</td>\n",
       "      <td>14.808592</td>\n",
       "      <td>1142.281228</td>\n",
       "      <td>1.688411</td>\n",
       "      <td>0.290901</td>\n",
       "      <td>154.978890</td>\n",
       "      <td>3773.366242</td>\n",
       "      <td>10781.678081</td>\n",
       "      <td>NaN</td>\n",
       "    </tr>\n",
       "  </tbody>\n",
       "</table>\n",
       "</div>"
      ],
      "text/plain": [
       "                age       taille         poids  revenu_estime_mois  \\\n",
       "count  10000.000000  10000.00000  10000.000000        10000.000000   \n",
       "mean      46.678800    169.98452     69.864350         2513.953300   \n",
       "min       18.000000    129.80000     11.700000          500.000000   \n",
       "25%       32.000000    163.40000     59.700000         1688.000000   \n",
       "50%       47.000000    170.00000     69.800000         2496.000000   \n",
       "75%       61.000000    176.60000     80.000000         3294.000000   \n",
       "max       75.000000    208.40000    132.200000         7358.000000   \n",
       "std       16.669812      9.88310     14.808592         1142.281228   \n",
       "\n",
       "       historique_credits  risque_personnel  score_credit  loyer_mensuel  \\\n",
       "count         4692.000000      10000.000000   4744.000000    7029.000000   \n",
       "mean             2.506820          0.502380    574.779722    5306.473284   \n",
       "min              0.000000          0.000000    300.000000    -245.100000   \n",
       "25%              1.000000          0.250000    443.000000    1007.750000   \n",
       "50%              3.000000          0.500000    574.000000    5000.000000   \n",
       "75%              4.000000          0.760000    705.000000   10000.000000   \n",
       "max              5.000000          1.000000    849.000000   10000.000000   \n",
       "std              1.688411          0.290901    154.978890    3773.366242   \n",
       "\n",
       "       montant_pret        date_creation_compte  \n",
       "count  10000.000000                       10000  \n",
       "mean    8063.179078  2022-09-21 21:53:08.160000  \n",
       "min      500.000000         2020-01-01 00:00:00  \n",
       "25%      500.000000         2021-05-06 00:00:00  \n",
       "50%      646.306057         2022-09-25 00:00:00  \n",
       "75%    13755.555527         2024-01-31 00:00:00  \n",
       "max    60000.000000         2025-06-12 00:00:00  \n",
       "std    10781.678081                         NaN  "
      ]
     },
     "execution_count": 36,
     "metadata": {},
     "output_type": "execute_result"
    }
   ],
   "source": [
    "df.describe()"
   ]
  },
  {
   "cell_type": "code",
   "execution_count": 37,
   "id": "fcdc26ae",
   "metadata": {},
   "outputs": [
    {
     "name": "stdout",
     "output_type": "stream",
     "text": [
      "<class 'pandas.core.frame.DataFrame'>\n",
      "RangeIndex: 10000 entries, 0 to 9999\n",
      "Data columns (total 16 columns):\n",
      " #   Column                Non-Null Count  Dtype         \n",
      "---  ------                --------------  -----         \n",
      " 0   age                   10000 non-null  int64         \n",
      " 1   taille                10000 non-null  float64       \n",
      " 2   poids                 10000 non-null  float64       \n",
      " 3   sexe                  10000 non-null  object        \n",
      " 4   sport_licence         10000 non-null  bool          \n",
      " 5   niveau_etude          10000 non-null  object        \n",
      " 6   region                10000 non-null  object        \n",
      " 7   smoker                10000 non-null  bool          \n",
      " 8   revenu_estime_mois    10000 non-null  int64         \n",
      " 9   situation_familiale   7545 non-null   object        \n",
      " 10  historique_credits    4692 non-null   float64       \n",
      " 11  risque_personnel      10000 non-null  float64       \n",
      " 12  score_credit          4744 non-null   float64       \n",
      " 13  loyer_mensuel         7029 non-null   float64       \n",
      " 14  montant_pret          10000 non-null  float64       \n",
      " 15  date_creation_compte  10000 non-null  datetime64[ns]\n",
      "dtypes: bool(2), datetime64[ns](1), float64(7), int64(2), object(4)\n",
      "memory usage: 1.1+ MB\n"
     ]
    }
   ],
   "source": [
    "df.info()"
   ]
  },
  {
   "cell_type": "code",
   "execution_count": 38,
   "id": "055238ef",
   "metadata": {},
   "outputs": [
    {
     "data": {
      "text/plain": [
       "<Axes: >"
      ]
     },
     "execution_count": 38,
     "metadata": {},
     "output_type": "execute_result"
    },
    {
     "data": {
      "image/png": "[encoded data removed]",
      "text/plain": [
       "<Figure size 2500x1000 with 2 Axes>"
      ]
     },
     "metadata": {},
     "output_type": "display_data"
    }
   ],
   "source": [
    "msno.matrix(df)"
   ]
  },
  {
   "cell_type": "code",
   "execution_count": 39,
   "id": "abff312a",
   "metadata": {},
   "outputs": [
    {
     "data": {
      "text/plain": [
       "Index(['age', 'taille', 'poids', 'sexe', 'sport_licence', 'niveau_etude',\n",
       "       'region', 'smoker', 'revenu_estime_mois', 'situation_familiale',\n",
       "       'historique_credits', 'risque_personnel', 'score_credit',\n",
       "       'loyer_mensuel', 'montant_pret', 'date_creation_compte'],\n",
       "      dtype='object')"
      ]
     },
     "execution_count": 39,
     "metadata": {},
     "output_type": "execute_result"
    }
   ],
   "source": [
    "numerical_cols = ['revenu_estime_mois', 'risque_personnel', 'loyer_mensuel', 'historique_credits', 'score_credit']\n",
    "categorical_cols = ['age_group', 'sport_licence', 'niveau_etude', 'region', 'smoker', 'situation_familiale']\n",
    "output_col = ['montant_pret']\n",
    "df.columns"
   ]
  },
  {
   "cell_type": "code",
   "execution_count": 42,
   "id": "2b22afab",
   "metadata": {},
   "outputs": [
    {
     "name": "stdout",
     "output_type": "stream",
     "text": [
      "Présence de valeurs négatives dans la colonne revenu_estime_mois:  False\n",
      "Présence de valeurs négatives dans la colonne risque_personnel:  False\n",
      "Présence de valeurs négatives dans la colonne loyer_mensuel:  False\n",
      "Présence de valeurs négatives dans la colonne historique_credits:  False\n",
      "Présence de valeurs négatives dans la colonne score_credit:  False\n"
     ]
    }
   ],
   "source": [
    "for col in numerical_cols:\n",
    "    negatif_present = (df[col] < 0).any()\n",
    "    print(f\"Présence de valeurs négatives dans la colonne {col}: \", negatif_present)"
   ]
  },
  {
   "cell_type": "code",
   "execution_count": 41,
   "id": "e443035b",
   "metadata": {},
   "outputs": [],
   "source": [
    "df['loyer_mensuel'] = df['loyer_mensuel'].mask(df['loyer_mensuel'] < 0)"
   ]
  },
  {
   "cell_type": "code",
   "execution_count": null,
   "id": "8f6af8d2",
   "metadata": {},
   "outputs": [],
   "source": [
    "for col in numerical_cols:\n",
    "    negatif_present = (df[col] < 0).any()\n",
    "    print(f\"Présence de valeurs négatives dans la colonne {col}: \", negatif_present)"
   ]
  }
 ],
 "metadata": {
  "kernelspec": {
   "display_name": ".venv",
   "language": "python",
   "name": "python3"
  },
  "language_info": {
   "codemirror_mode": {
    "name": "ipython",
    "version": 3
   },
   "file_extension": ".py",
   "mimetype": "text/x-python",
   "name": "python",
   "nbconvert_exporter": "python",
   "pygments_lexer": "ipython3",
   "version": "3.10.18"
  }
 },
 "nbformat": 4,
 "nbformat_minor": 5
}
